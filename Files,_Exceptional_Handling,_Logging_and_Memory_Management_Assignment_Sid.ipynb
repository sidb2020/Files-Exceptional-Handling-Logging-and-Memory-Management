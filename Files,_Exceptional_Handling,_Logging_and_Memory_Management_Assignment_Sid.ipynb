{
  "nbformat": 4,
  "nbformat_minor": 0,
  "metadata": {
    "colab": {
      "provenance": []
    },
    "kernelspec": {
      "name": "python3",
      "display_name": "Python 3"
    },
    "language_info": {
      "name": "python"
    }
  },
  "cells": [
    {
      "cell_type": "markdown",
      "source": [
        "##Files, Exceptional Handling, Logging and Memory Management Assignment Theoretical Questions\n",
        "\n",
        "####1. What is the difference between interpreted and compiled languages ?\n",
        "-  The main difference between interpreted and compiled languages lies in how the code is executed and how it is processed before running:\n",
        "\n",
        "**1.** Compiled Languages:\n",
        "  - Compilation Process: In compiled languages, the entire source code is converted into machine code (binary) by a compiler before execution. This compiled code can then be directly run by the computer's hardware.\n",
        "  - Examples: C, C++, Rust, Go.\n",
        "  - Execution: Once the code is compiled, it runs independently of the source code. The machine code is executed directly by the operating system and hardware.\n",
        "  - Performance: Compiled languages tend to be faster because the translation to machine code is done beforehand, and the program is directly executed by the CPU.\n",
        "  - Development Cycle: Requires an additional step of compilation before the program can be run. This can make the development cycle slower, as you need to recompile after changes.\n",
        "\n",
        "**2.** Interpreted Languages:\n",
        "  - Interpretation Process: In interpreted languages, the source code is executed line-by-line or statement-by-statement by an interpreter. The interpreter reads the source code and converts it into machine code on the fly, during execution.\n",
        "  - Examples: Python, JavaScript, Ruby, PHP.\n",
        "  - Execution: The source code is executed directly by the interpreter, which processes the instructions in real time, so you don’t need a separate compilation step.\n",
        "  - Performance: Interpreted languages tend to be slower because each instruction is interpreted every time the program runs.\n",
        "  - Development Cycle: Generally faster development cycle, since you can write and run code immediately without needing to compile it first.\n",
        "\n",
        "####2. What is exception handling in Python ?\n",
        "-  Exception handling in Python refers to the mechanism that allows a program to handle runtime errors or exceptional conditions gracefully, instead of crashing or terminating unexpectedly. When an error occurs during program execution, an \"exception\" is raised, and Python provides a way to catch and handle these exceptions using a set of keywords.\n",
        "\n",
        "Uses:\n",
        "\n",
        "  - Error Recovery: Prevents the program from crashing by handling errors in a controlled way.\n",
        "  - Cleaner Code: Helps separate normal code flow from error-handling code, making the program more readable.\n",
        "  - Graceful Shutdown: Ensures resources (e.g., files, network connections) are properly released, even when an error occurs.\n",
        "\n",
        "####3. What is the purpose of the finally block in exception handling ?\n",
        "-  The finally block in exception handling is used to define code that should always be executed, regardless of whether an exception was raised or not. This makes it particularly useful for actions that need to be performed no matter the outcome of the try-except blocks, such as cleanup activities, releasing resources, or closing files and network connections.\n",
        "\n",
        "Advantages:\n",
        "\n",
        "  - The finally block ensures that essential cleanup or final actions are always performed.\n",
        "  - It guarantees execution no matter what happens in the try or except blocks.\n",
        "  - It’s primarily used for resource management (e.g., closing files, releasing network connections, or cleaning up temporary resources).\n",
        "\n",
        "####4. What is logging in Python ?\n",
        "-  Logging in Python refers to the process of tracking and recording events, messages, or errors that occur during the execution of a program. It is a powerful tool for monitoring and debugging code by providing insight into what happens during the program’s execution.\n",
        "\n",
        "Python's built-in logging module allows you to log messages with different severity levels (e.g., debug, info, warning, error, critical) to various outputs like the console, files, or even remote servers.\n",
        "\n",
        "Logging is an essential part of developing and maintaining software, especially in larger systems. It helps in tracking errors, monitoring application behavior, and debugging issues, providing a way to diagnose and fix problems without needing to reproduce them. The Python logging module is a versatile and configurable tool for handling logging needs in various scenarios.\n",
        "\n",
        "####5. What is the significance of the __del__ method in Python ?\n",
        "-  In Python, the __del__ method is a destructor method, which is called when an object is about to be destroyed or garbage collected. The primary purpose of the __del__ method is to allow objects to clean up or release any resources they might be holding, such as closing files, releasing network connections, or freeing up memory.\n",
        "\n",
        "The __del__ method is useful for cleaning up resources when an object is destroyed, but due to its limitations (unpredictable timing, issues with circular references, etc.), it’s generally better to use explicit resource management techniques, such as context managers or the try-finally pattern, to ensure that resources are properly released.\n",
        "\n",
        "####6. What is the difference between import and from ... import in Python ?\n",
        "-  In Python, both import and from ... import are used to bring modules or specific items from modules into the current namespace, but they work slightly differently.\n",
        "\n",
        "Key Differences:\n",
        "\n",
        "  - Importing the Entire Module (import module_name):\n",
        "\n",
        "    - You need to reference the module name every time you access its functions or variables.\n",
        "    - Example: math.sqrt(16), math.pi\n",
        "    - Keeps the namespace clean by not adding individual items directly into your global namespace.\n",
        "\n",
        "    - import module_name: You import the entire module and access functions/classes/variables with the module name as a prefix (e.g., math.sqrt()).\n",
        "  - Importing Specific Items (from module_name import item_name):\n",
        "\n",
        "    - You can import specific functions, classes, or variables from the module.\n",
        "    - Example: sqrt(16), pi\n",
        "    - Reduces typing but may cause conflicts if the imported names overlap with other names in your current namespace.\n",
        "\n",
        "    - from module_name import item_name: You import specific items from the module directly into your namespace, so you can use them without the module prefix (e.g., sqrt()).\n",
        "  \n",
        "Choosing between import and from ... import depends on your needs. If you want to keep things organized and avoid name conflicts, use import. If you only need a specific function or class and want to save on typing, use from ... import.\n",
        "\n",
        "####7.How can you handle multiple exceptions in Python ?\n",
        "-  In Python, you can handle multiple exceptions using the try-except block in a few different ways. There are several techniques to handle multiple exceptions depending on your needs.\n",
        "\n",
        "1. Catching Multiple Exceptions in a Single except Block\n",
        "2. Using Multiple except Blocks for Different Exceptions\n",
        "3. Catching All Exceptions with a Generic except Block\n",
        "4. Using else Block with Multiple Exceptions\n",
        "5. Accessing the Exception Object\n",
        "6. Using finally Block for Cleanup\n",
        "\n",
        "####8. What is the purpose of the with statement when handling files in Python ?\n",
        "-  The with statement in Python is used to simplify the management of resources, particularly in scenarios where you need to perform some actions (like opening a file) and ensure that the resource is properly cleaned up afterward, even if an error occurs. The with statement is often used when working with files, network connections, or any resource that requires cleanup after use (such as closing a file or releasing a lock).\n",
        "\n",
        "Purpose of the with Statement in File Handling:\n",
        "\n",
        "When you're working with files, one of the most important tasks is to ensure that the file is properly closed after you're done with it. If you forget to close the file, it could lead to memory leaks or file corruption. The with statement simplifies this by automatically taking care of closing the file, even if an exception occurs while the file is being used.\n",
        "\n",
        "####9. What is the difference between multithreading and multiprocessing ?\n",
        "-  The concepts of multithreading and multiprocessing are both used to achieve concurrent execution of tasks, but they differ in how they operate and are suited for different types of workloads.\n",
        "\n",
        "  - Multithreading is generally used for I/O-bound tasks, where tasks spend a lot of time waiting for external resources. It allows multiple threads to run in a single process, but Python's GIL limits true parallelism for CPU-bound tasks.\n",
        "  - Multiprocessing is used for CPU-bound tasks and takes full advantage of multiple CPU cores, bypassing the GIL. It uses separate processes, which allows for true parallel execution but comes with higher memory and inter-process communication overhead.\n",
        "\n",
        "####10. What are the advantages of using logging in a program ?\n",
        "-  Using logging in a program offers several advantages, especially in terms of tracking, debugging, and maintaining the application over time. Logging provides a structured and consistent way to record events and issues during the execution of a program, allowing developers to monitor and troubleshoot the software.\n",
        "\n",
        "Advantages of Logging:\n",
        "\n",
        "  - Better traceability and debugging.\n",
        "  - Control over log output, including filtering by severity level.\n",
        "  - Persistent logging for future analysis and debugging.\n",
        "  - Separation of concerns (code vs. logging).\n",
        "  - Real-time monitoring and proactive error handling.\n",
        "  - Performance optimization and asynchronous logging support.\n",
        "  - Structured and contextual logging for easy searching and analysis.\n",
        "  - Multiple log handlers for different outputs (files, consoles, remote systems).\n",
        "  - Compliance and auditing for legal and security purposes.\n",
        "  - Avoids the overhead of print statements and can be controlled dynamically.\n",
        "\n",
        "####11. What is memory management in Python ?\n",
        "-  Memory management in Python refers to the process of efficiently allocating, tracking, and deallocating memory during the execution of a Python program. Python automatically handles most of the memory management for you, but understanding how it works can help optimize your code and avoid potential memory issues like memory leaks.\n",
        "\n",
        "Python's memory management system is responsible for:\n",
        "\n",
        "  - Allocating memory for objects and data structures.\n",
        "  - Tracking references to those objects.\n",
        "  - Releasing memory when objects are no longer needed (garbage collection).\n",
        "\n",
        "####12. What are the basic steps involved in exception handling in Python ?\n",
        "-  Exception handling in Python is used to manage errors that occur during the execution of a program. The primary goal of exception handling is to prevent the program from crashing and to provide a way to gracefully handle unexpected situations. Python provides a robust mechanism for handling exceptions using the try, except, else, and finally blocks.\n",
        "\n",
        "Basic Steps Involved in Exception Handling in Python:\n",
        "\n",
        "  - try Block:\n",
        "\n",
        "    - The code inside the try block tries to perform a division operation based on user input.\n",
        "  - except Block:\n",
        "\n",
        "    - If the user enters zero, a ZeroDivisionError will occur, and the corresponding except block will handle it.\n",
        "    - If the user enters a non-integer value, a ValueError will occur, and that will be caught by the second except block.\n",
        "  - else Block:\n",
        "\n",
        "    - If no exception occurs, the result of the division is printed inside the else block.\n",
        "  - finally Block:\n",
        "\n",
        "    - The finally block runs after all the exception handling, ensuring that a message is printed, regardless of whether an exception was raised.\n",
        "\n",
        "####13. Why is memory management important in Python ?\n",
        "-  Memory management in Python is critically important because it directly affects the performance, efficiency, and stability of a Python program. Good memory management ensures that your program uses system resources optimally, avoids memory leaks, and runs efficiently, even when handling large datasets or long-running processes.\n",
        "\n",
        "Advantages:\n",
        "\n",
        "  - Efficient Resource Usage: Ensures that your program uses memory optimally, improving performance.\n",
        "  - Prevents Memory Leaks: Prevents unintentional memory retention, reducing the risk of memory leaks.\n",
        "  - Improves Program Performance: Proper memory management leads to faster, more responsive applications with lower memory overhead.\n",
        "  - Handles Large Data: Helps you manage large datasets effectively, preventing out-of-memory errors.\n",
        "  - Automated with Garbage Collection: Python’s garbage collection and reference counting simplify memory management, but understanding it helps you avoid problems.\n",
        "  - Reduces Fragmentation: Helps avoid memory fragmentation, which can degrade performance.\n",
        "  - Memory Efficiency: Using efficient data structures and techniques (e.g., generators) reduces memory footprint and speeds up your program.\n",
        "  - Manages Object Lifetime: Helps you manage the cleanup of resources, such as closing files or connections.\n",
        "  - Scalability: Ensures that your application can handle increased load and scale efficiently.\n",
        "  - Security: Proper memory management avoids potential security risks due to mishandling memory or data.\n",
        "\n",
        "####14. What is the role of try and except in exception handling ?\n",
        "-  In Python, the try and except blocks play a crucial role in exception handling by allowing you to catch and handle errors that occur during the execution of a program. This helps you manage unexpected events or errors (exceptions) and ensures that the program does not crash, but instead continues to run gracefully or provides meaningful feedback to the user.\n",
        "\n",
        "Key Points:\n",
        "\n",
        "  - The try block contains the code that might raise an exception. If no exception occurs, it completes successfully.\n",
        "  - The except block catches the exception and allows you to handle it gracefully. You can specify the type of exception you want to catch (e.g., ZeroDivisionError, ValueError).\n",
        "  - If the exception raised matches the one in the except block, the code in that block is executed. If no exception occurs, the except block is skipped.\n",
        "\n",
        "####15. How does Python's garbage collection system work ?\n",
        "-  Python’s garbage collection system is responsible for automatically managing memory by reclaiming memory that is no longer in use, ensuring efficient memory usage and preventing memory leaks. The system helps developers avoid manual memory management, which can be error-prone, while still allowing Python programs to run efficiently even with complex data structures.\n",
        "\n",
        "Key Points in Python's Garbage Collection:\n",
        "\n",
        "  - Reference Counting: Python tracks the reference count of each object and deallocates it when the count reaches zero.\n",
        "  - Cyclic Garbage Collection: Python uses a cyclic garbage collector to detect and clean up cyclic references that reference counting cannot handle.\n",
        "  - Generational Approach: Objects are divided into generations, and garbage collection is more frequent for younger objects, optimizing performance.\n",
        "  - gc Module: Provides functions for interacting with and controlling garbage collection, including forcing manual collection and inspecting objects.\n",
        "  - Finalization: The __del__ method allows for custom cleanup when an object is about to be destroyed, though it may not be called reliably in cases of cyclic references.\n",
        "\n",
        "####16. What is the purpose of the else block in exception handling ?\n",
        "-  Purpose of the else Block:\n",
        "\n",
        "    - Runs Only If No Exceptions Occur: The code inside the else block is executed only when no exception is raised in the try block. If an exception occurs in the try block, the control is passed to the except block (if one exists), and the else block is skipped.\n",
        "\n",
        "    - Clean Separation of Logic: The else block is useful for clearly separating the code that handles exceptions from the code that should run when the program operates normally. This makes the code more readable and maintainable.\n",
        "\n",
        "    - Avoids Unnecessary Exception Handling: By placing the normal code in the else block, you avoid placing it inside the try block, which might make exception handling more complex and less clear.\n",
        "\n",
        "####17. What are the common logging levels in Python ?\n",
        "-  In Python, the logging module provides a flexible framework for emitting log messages from your program. It supports multiple logging levels, which allow you to categorize and control the severity of messages that are logged. These levels help you filter messages based on their importance, enabling more efficient debugging and tracking of the application's behavior.\n",
        "\n",
        "Common logging levels:\n",
        "\n",
        "  - DEBUG: Detailed information, typically used during development.\n",
        "  - INFO: General information about the program’s operation.\n",
        "  - WARNING: Indicates a potential issue but doesn't stop execution.\n",
        "  - ERROR: An error that impacts a part of the program but not necessarily the entire program.\n",
        "  - CRITICAL: A serious error that may cause the program to terminate.\n",
        "\n",
        "####18. What is the difference between os.fork() and multiprocessing in Python ?\n",
        "-  In Python, both os.fork() and the multiprocessing module allow for creating separate processes, but they work in different ways and are suited for different use cases.\n",
        "\n",
        "  - os.fork() is a low-level system call specific to Unix-like operating systems, used to create a child process by duplicating the parent process. It is more manual and lower-level and doesn't provide high-level abstractions for tasks like inter-process communication or synchronization.\n",
        "\n",
        "  - multiprocessing is a high-level module that provides a more Pythonic and cross-platform way to create and manage processes. It abstracts away many complexities and provides support for inter-process communication, synchronization, and process pools. It's the preferred option for managing parallelism and concurrency in Python programs, especially when working across different platforms.\n",
        "\n",
        "####19. What is the importance of closing a file in Python ?\n",
        "-  Closing a file in Python is important for several reasons related to resource management, data integrity, and program stability.\n",
        "\n",
        "Closing a file in Python is essential for:\n",
        "\n",
        "  - Releasing system resources (like file handles).\n",
        "  - Ensuring data integrity by flushing any buffered data.\n",
        "  - Avoiding data corruption caused by crashes or improper writes.\n",
        "  - Improving program stability and performance.\n",
        "  - Ensuring automatic cleanup when using the with statement.\n",
        "\n",
        "####20. What is the difference between file.read() and file.readline() in Python ?\n",
        "-  In Python, both file.read() and file.readline() are methods used to read data from a file, but they work in different ways.\n",
        "\n",
        "Uses:\n",
        "\n",
        "  - Use file.read() when you need to read the entire file or a specified number of characters.\n",
        "  - Use file.readline() when you want to read a file line by line, especially useful for large files, as it avoids loading the entire content into memory.\n",
        "\n",
        "####21. What is the logging module in Python used for ?\n",
        "-  The logging module in Python is used to provide a flexible framework for emitting log messages from your program. It helps track events, errors, or other important information during the execution of a program. Logging is essential for monitoring, debugging, and maintaining a running application, especially in production environments.\n",
        "\n",
        "The logging module is a powerful and flexible tool for recording events in your Python application. Whether you're debugging, monitoring performance, tracking errors, or maintaining an audit trail, the logging module provides the necessary functionality to ensure that your program operates smoothly and is easier to maintain.\n",
        "\n",
        "####22. What is the os module in Python used for in file handling ?\n",
        "-  The os module in Python provides a way to interact with the operating system, allowing you to perform various file and directory operations. When it comes to file handling, the os module provides functions to perform actions such as creating, deleting, renaming, and moving files and directories. It also allows you to get file information, check the existence of files, and navigate the file system.\n",
        "\n",
        "The os module is essential for file handling in Python because it allows you to interact with the operating system for file and directory management. It provides functionality for creating, deleting, and renaming files and directories, checking file existence, and working with file paths in a cross-platform manner. When combined with other modules like os.path and shutil, it offers a comprehensive toolset for file handling and manipulation.\n",
        "\n",
        "####23. What are the challenges associated with memory management in Python ?\n",
        "-  Memory management in Python is handled automatically through a combination of techniques like garbage collection and reference counting, but there are still several challenges and potential pitfalls that developers may encounter.\n",
        "\n",
        "While Python's memory management is automatic and efficient for most cases, developers still face challenges related to garbage collection overhead, memory leaks, fragmentation, and large-scale memory usage. By understanding how memory is managed in Python, using profiling tools, and following best practices, you can effectively mitigate these challenges and optimize the memory usage of your Python applications.\n",
        "\n",
        "####24. How do you raise an exception manually in Python ?\n",
        "-  In Python, you can manually raise an exception using the raise keyword. This allows you to generate an exception based on specific conditions in your code. Raising exceptions is useful when you want to indicate that something unexpected or erroneous has occurred, and you want to interrupt the normal flow of your program.\n",
        "\n",
        "  - raise is used to manually trigger exceptions in Python.\n",
        "  - You can raise built-in exceptions (e.g., ValueError, TypeError, etc.) or define and raise your own custom exceptions.\n",
        "  - Use from to preserve the context of an original exception when raising a new one.\n",
        "\n",
        "####25. Why is it important to use multithreading in certain applications ?\n",
        "-  Multithreading is important in certain applications for several reasons, particularly when dealing with tasks that involve multiple independent operations that can be executed concurrently.\n",
        "\n",
        "Multithreading is important in applications where concurrency, responsiveness, and efficient use of system resources are required. It is particularly beneficial for:\n",
        "\n",
        "  - I/O-bound tasks, like reading files or making network requests.\n",
        "  - User interfaces where background tasks must run without freezing the UI.\n",
        "  - Scalable systems that need to handle large workloads or manage multiple tasks in parallel.\n",
        "  - Real-time and performance-sensitive applications that require precise timing and concurrency."
      ],
      "metadata": {
        "id": "BwKq48VtpEQJ"
      }
    },
    {
      "cell_type": "code",
      "source": [
        "## Files, Exceptional Handling, Logging and Memory Management Practical Questions\n",
        "\n",
        "#1 How can you open a file for writing in Python and write a string to it ?\n",
        "\n",
        "# Open a file in write mode\n",
        "with open('example.txt', 'w') as file:\n",
        "    # Write a string to the file\n",
        "    file.write(\"Hello, this is a test string!\\n\")\n",
        "    file.write(\"This is another line.\\n\")"
      ],
      "metadata": {
        "id": "Be3oLgHUYK_4"
      },
      "execution_count": null,
      "outputs": []
    },
    {
      "cell_type": "code",
      "source": [
        "#2 Write a Python program to read the contents of a file and print each line.\n",
        "\n",
        "# Open the file in read mode\n",
        "with open('example.txt', 'r') as file:\n",
        "    # Iterate through each line in the file\n",
        "    for line in file:\n",
        "        # Print each line\n",
        "        print(line.strip())  # strip() removes any trailing newline characters"
      ],
      "metadata": {
        "id": "5sca8YuDZkOe"
      },
      "execution_count": null,
      "outputs": []
    },
    {
      "cell_type": "code",
      "source": [
        "#3 How would you handle a case where the file doesn't exist while trying to open it for reading ?\n",
        "\n",
        "try:\n",
        "    # Attempt to open the file in read mode\n",
        "    with open('non_existent_file.txt', 'r') as file:\n",
        "        # Read and print the contents of the file\n",
        "        for line in file:\n",
        "            print(line.strip())\n",
        "except FileNotFoundError:\n",
        "    print(\"Error: The file does not exist.\")"
      ],
      "metadata": {
        "colab": {
          "base_uri": "https://localhost:8080/"
        },
        "id": "W6o_4VHRZz9F",
        "outputId": "ebd275ca-da80-4dc3-a1ca-5dd09b127146"
      },
      "execution_count": 1,
      "outputs": [
        {
          "output_type": "stream",
          "name": "stdout",
          "text": [
            "Error: The file does not exist.\n"
          ]
        }
      ]
    },
    {
      "cell_type": "code",
      "source": [
        "#4 Write a Python script that reads from one file and writes its content to another file.\n",
        "\n",
        "# Define the source and destination file paths\n",
        "source_file = 'source.txt'\n",
        "destination_file = 'destination.txt'\n",
        "\n",
        "try:\n",
        "    # Open the source file in read mode and the destination file in write mode\n",
        "    with open(source_file, 'r') as src, open(destination_file, 'w') as dest:\n",
        "        # Read the contents of the source file\n",
        "        content = src.read()\n",
        "\n",
        "        # Write the content to the destination file\n",
        "        dest.write(content)\n",
        "\n",
        "    print(f\"Content has been successfully copied from {source_file} to {destination_file}.\")\n",
        "\n",
        "except FileNotFoundError:\n",
        "    print(f\"Error: The file {source_file} does not exist.\")\n",
        "except IOError as e:\n",
        "    print(f\"An error occurred while handling the file: {e}\")"
      ],
      "metadata": {
        "colab": {
          "base_uri": "https://localhost:8080/"
        },
        "id": "ZQOwV-yYaEAn",
        "outputId": "f1b35df2-36d4-49b1-ef67-1722a266ba1c"
      },
      "execution_count": 2,
      "outputs": [
        {
          "output_type": "stream",
          "name": "stdout",
          "text": [
            "Error: The file source.txt does not exist.\n"
          ]
        }
      ]
    },
    {
      "cell_type": "code",
      "source": [
        "#5 How would you catch and handle division by zero error in Python ?\n",
        "\n",
        "try:\n",
        "    # Attempt to divide by zero\n",
        "    numerator = 10\n",
        "    denominator = 0\n",
        "    result = numerator / denominator\n",
        "    print(f\"The result is: {result}\")\n",
        "except ZeroDivisionError:\n",
        "    # Handle the division by zero error\n",
        "    print(\"Error: Division by zero is not allowed.\")"
      ],
      "metadata": {
        "colab": {
          "base_uri": "https://localhost:8080/"
        },
        "id": "vvgbrYOZae7_",
        "outputId": "cdd298b0-ce04-4d3a-df71-f70662c8dd95"
      },
      "execution_count": 3,
      "outputs": [
        {
          "output_type": "stream",
          "name": "stdout",
          "text": [
            "Error: Division by zero is not allowed.\n"
          ]
        }
      ]
    },
    {
      "cell_type": "code",
      "source": [
        "#6 Write a Python program that logs an error message to a log file when a division by zero exception occurs.\n",
        "\n",
        "import logging\n",
        "\n",
        "# Set up logging to log errors to a file\n",
        "logging.basicConfig(\n",
        "    filename='error_log.txt',  # Log file name\n",
        "    level=logging.ERROR,       # Set logging level to ERROR to log errors\n",
        "    format='%(asctime)s - %(levelname)s - %(message)s'  # Log format\n",
        ")\n",
        "\n",
        "try:\n",
        "    # Example code that might cause a division by zero\n",
        "    numerator = 10\n",
        "    denominator = 0\n",
        "    result = numerator / denominator  # This will raise ZeroDivisionError\n",
        "    print(f\"The result is: {result}\")\n",
        "except ZeroDivisionError as e:\n",
        "    # Log the error message to the log file\n",
        "    logging.error(\"Error: Division by zero occurred.\", exc_info=True)  # Log the error with stack trace\n",
        "    print(\"Error: Division by zero occurred. Check the log file for details.\")"
      ],
      "metadata": {
        "colab": {
          "base_uri": "https://localhost:8080/"
        },
        "id": "kWeAhcCOayrK",
        "outputId": "3e91dbe9-cc81-4afa-edf0-17ddfdeab098"
      },
      "execution_count": 4,
      "outputs": [
        {
          "output_type": "stream",
          "name": "stderr",
          "text": [
            "ERROR:root:Error: Division by zero occurred.\n",
            "Traceback (most recent call last):\n",
            "  File \"<ipython-input-4-c24a9f6eaef6>\", line 16, in <cell line: 0>\n",
            "    result = numerator / denominator  # This will raise ZeroDivisionError\n",
            "             ~~~~~~~~~~^~~~~~~~~~~~~\n",
            "ZeroDivisionError: division by zero\n"
          ]
        },
        {
          "output_type": "stream",
          "name": "stdout",
          "text": [
            "Error: Division by zero occurred. Check the log file for details.\n"
          ]
        }
      ]
    },
    {
      "cell_type": "code",
      "source": [
        "#7 How do you log information at different levels (INFO, ERROR, WARNING) in Python using the logging module ?\n",
        "\n",
        "import logging\n",
        "\n",
        "# Configure logging to log messages to a file\n",
        "logging.basicConfig(\n",
        "    filename='application_log.txt',  # Log file name\n",
        "    level=logging.DEBUG,             # Set the logging level to DEBUG (lowest level)\n",
        "    format='%(asctime)s - %(levelname)s - %(message)s'  # Log format\n",
        ")\n",
        "\n",
        "# Log messages at different levels\n",
        "logging.debug(\"This is a debug message, typically used for diagnostic purposes.\")\n",
        "logging.info(\"This is an info message, used to provide general information.\")\n",
        "logging.warning(\"This is a warning message, indicating a potential issue.\")\n",
        "logging.error(\"This is an error message, indicating a serious issue.\")\n",
        "logging.critical(\"This is a critical message, indicating a severe problem that might cause the program to stop.\")"
      ],
      "metadata": {
        "colab": {
          "base_uri": "https://localhost:8080/"
        },
        "id": "B-aPn621bICC",
        "outputId": "e9241961-88e9-409f-8d58-53bdedcaa23b"
      },
      "execution_count": 5,
      "outputs": [
        {
          "output_type": "stream",
          "name": "stderr",
          "text": [
            "WARNING:root:This is a warning message, indicating a potential issue.\n",
            "ERROR:root:This is an error message, indicating a serious issue.\n",
            "CRITICAL:root:This is a critical message, indicating a severe problem that might cause the program to stop.\n"
          ]
        }
      ]
    },
    {
      "cell_type": "code",
      "source": [
        "#8 Write a program to handle a file opening error using exception handling.\n",
        "\n",
        "try:\n",
        "    # Attempt to open a file (this file may not exist or may have permission issues)\n",
        "    with open('non_existent_file.txt', 'r') as file:\n",
        "        content = file.read()\n",
        "        print(content)\n",
        "except FileNotFoundError:\n",
        "    # Handle the case where the file does not exist\n",
        "    print(\"Error: The file does not exist.\")\n",
        "except PermissionError:\n",
        "    # Handle the case where there are permission issues\n",
        "    print(\"Error: You do not have permission to open this file.\")\n",
        "except IOError as e:\n",
        "    # Handle any other I/O errors\n",
        "    print(f\"Error: An I/O error occurred. Details: {e}\")"
      ],
      "metadata": {
        "colab": {
          "base_uri": "https://localhost:8080/"
        },
        "id": "OgOuYu-1bwtN",
        "outputId": "10eb49c0-62e4-48f3-f6e4-98d161a2e64f"
      },
      "execution_count": 6,
      "outputs": [
        {
          "output_type": "stream",
          "name": "stdout",
          "text": [
            "Error: The file does not exist.\n"
          ]
        }
      ]
    },
    {
      "cell_type": "code",
      "source": [
        "#9 How can you read a file line by line and store its content in a list in Python ?\n",
        "\n",
        "# Open the file in read mode\n",
        "with open('example.txt', 'r') as file:\n",
        "    # Read all lines and store them in a list\n",
        "    lines = file.readlines()\n",
        "\n",
        "# Print the list containing the lines from the file\n",
        "print(lines)"
      ],
      "metadata": {
        "id": "GLWx7gC_i1YF"
      },
      "execution_count": null,
      "outputs": []
    },
    {
      "cell_type": "code",
      "source": [
        "#10 How can you append data to an existing file in Python ?\n",
        "\n",
        "# Open the file in append mode ('a')\n",
        "with open('example.txt', 'a') as file:\n",
        "    # Append new data to the file\n",
        "    file.write(\"This is the new data added to the file.\\n\")"
      ],
      "metadata": {
        "id": "qzndW4y8jFAD"
      },
      "execution_count": null,
      "outputs": []
    },
    {
      "cell_type": "code",
      "source": [
        "#11 Write a Python program that uses a try-except block to handle an error when attempting to access a dictionary key that doesn't exist.\n",
        "\n",
        "# Example dictionary\n",
        "my_dict = {\n",
        "    'name': 'Sid',\n",
        "    'age': 34,\n",
        "    'city': 'Varanasi'\n",
        "}\n",
        "\n",
        "# Try to access a non-existent key\n",
        "try:\n",
        "    # Attempt to access a key that may not exist\n",
        "    value = my_dict['country']\n",
        "    print(f\"The value for 'country' is: {value}\")\n",
        "except KeyError:\n",
        "    # Handle the case where the key doesn't exist\n",
        "    print(\"Error: The key 'country' does not exist in the dictionary.\")"
      ],
      "metadata": {
        "colab": {
          "base_uri": "https://localhost:8080/"
        },
        "id": "fNAzur_cjTry",
        "outputId": "c53c37f0-f2fc-4542-b6a0-4d8e270fc62b"
      },
      "execution_count": 7,
      "outputs": [
        {
          "output_type": "stream",
          "name": "stdout",
          "text": [
            "Error: The key 'country' does not exist in the dictionary.\n"
          ]
        }
      ]
    },
    {
      "cell_type": "code",
      "source": [
        "#12 Write a program that demonstrates using multiple except blocks to handle different types of exceptions.\n",
        "\n",
        "# Function to demonstrate multiple exceptions handling\n",
        "def handle_exceptions():\n",
        "    try:\n",
        "        # Prompt the user to input a number\n",
        "        number = int(input(\"Enter a number: \"))\n",
        "\n",
        "        # Attempt a division by zero\n",
        "        result = 10 / number\n",
        "        print(f\"Result of division: {result}\")\n",
        "\n",
        "        # Try accessing a dictionary key that may not exist\n",
        "        my_dict = {'name': 'Alice', 'age': 30}\n",
        "        value = my_dict['country']  # This will raise a KeyError\n",
        "        print(f\"Country: {value}\")\n",
        "\n",
        "    except ValueError:\n",
        "        print(\"Error: Invalid input! Please enter a valid integer.\")\n",
        "\n",
        "    except ZeroDivisionError:\n",
        "        print(\"Error: Division by zero is not allowed.\")\n",
        "\n",
        "    except KeyError:\n",
        "        print(\"Error: The key 'country' does not exist in the dictionary.\")\n",
        "\n",
        "    except Exception as e:\n",
        "        print(f\"An unexpected error occurred: {e}\")\n",
        "\n",
        "# Call the function to demonstrate the exception handling\n",
        "handle_exceptions()"
      ],
      "metadata": {
        "colab": {
          "base_uri": "https://localhost:8080/"
        },
        "id": "8J0n7SozjqnU",
        "outputId": "a2416e39-0b3a-4522-c619-62359b1134f9"
      },
      "execution_count": 8,
      "outputs": [
        {
          "output_type": "stream",
          "name": "stdout",
          "text": [
            "Enter a number: 20\n",
            "Result of division: 0.5\n",
            "Error: The key 'country' does not exist in the dictionary.\n"
          ]
        }
      ]
    },
    {
      "cell_type": "code",
      "source": [
        "#13 How would you check if a file exists before attempting to read it in Python ?\n",
        "\n",
        "import os\n",
        "\n",
        "# Specify the file path\n",
        "file_path = 'example.txt'\n",
        "\n",
        "# Check if the file exists and is a file (not a directory)\n",
        "if os.path.isfile(file_path):\n",
        "    try:\n",
        "        # Open the file for reading\n",
        "        with open(file_path, 'r') as file:\n",
        "            content = file.read()\n",
        "            print(\"File content:\")\n",
        "            print(content)\n",
        "    except Exception as e:\n",
        "        print(f\"An error occurred while reading the file: {e}\")\n",
        "else:\n",
        "    print(f\"The file '{file_path}' does not exist.\")"
      ],
      "metadata": {
        "colab": {
          "base_uri": "https://localhost:8080/"
        },
        "id": "8ltMcJmfj_rv",
        "outputId": "2363cf6e-4901-4925-f8f2-9ab8a6253238"
      },
      "execution_count": 9,
      "outputs": [
        {
          "output_type": "stream",
          "name": "stdout",
          "text": [
            "The file 'example.txt' does not exist.\n"
          ]
        }
      ]
    },
    {
      "cell_type": "code",
      "source": [
        "#14 Write a program that uses the logging module to log both informational and error messages.\n",
        "\n",
        "import logging\n",
        "\n",
        "# Configure logging to log messages to a file\n",
        "logging.basicConfig(\n",
        "    filename='app_log.txt',  # Log file name\n",
        "    level=logging.DEBUG,     # Set logging level to DEBUG (logs all levels: DEBUG, INFO, WARNING, ERROR, CRITICAL)\n",
        "    format='%(asctime)s - %(levelname)s - %(message)s'  # Log format including timestamp, log level, and message\n",
        ")\n",
        "\n",
        "# Log an informational message\n",
        "logging.info(\"This is an informational message indicating that the program is running smoothly.\")\n",
        "\n",
        "# Log a warning message (example of something unexpected but not critical)\n",
        "logging.warning(\"This is a warning message. The program is working, but there's a potential issue.\")\n",
        "\n",
        "# Log an error message (this could simulate an exception or error in the program)\n",
        "try:\n",
        "    result = 10 / 0  # This will raise a ZeroDivisionError\n",
        "except ZeroDivisionError as e:\n",
        "    logging.error(f\"An error occurred: {e}\")  # Logs the error with the exception message\n",
        "\n",
        "# Log a critical message (an issue that might halt the program)\n",
        "logging.critical(\"A critical issue has occurred! This could be a program halting event.\")"
      ],
      "metadata": {
        "colab": {
          "base_uri": "https://localhost:8080/"
        },
        "id": "ATcWxTPQkSRN",
        "outputId": "d7548ef3-0458-4796-de14-4dfd88ee8b02"
      },
      "execution_count": 10,
      "outputs": [
        {
          "output_type": "stream",
          "name": "stderr",
          "text": [
            "WARNING:root:This is a warning message. The program is working, but there's a potential issue.\n",
            "ERROR:root:An error occurred: division by zero\n",
            "CRITICAL:root:A critical issue has occurred! This could be a program halting event.\n"
          ]
        }
      ]
    },
    {
      "cell_type": "code",
      "source": [
        "#15 Write a Python program that prints the content of a file and handles the case when the file is empty.\n",
        "\n",
        "def print_file_content(file_path):\n",
        "    try:\n",
        "        # Open the file in read mode\n",
        "        with open(file_path, 'r') as file:\n",
        "            content = file.read().strip()  # Read and remove any leading/trailing whitespace (including newlines)\n",
        "\n",
        "            if content:\n",
        "                # If the file is not empty, print its content\n",
        "                print(\"File content:\")\n",
        "                print(content)\n",
        "            else:\n",
        "                # If the file is empty, print a message\n",
        "                print(\"The file is empty.\")\n",
        "    except FileNotFoundError:\n",
        "        # Handle case when the file doesn't exist\n",
        "        print(f\"Error: The file '{file_path}' does not exist.\")\n",
        "    except Exception as e:\n",
        "        # Handle any other exceptions\n",
        "        print(f\"An error occurred: {e}\")\n",
        "\n",
        "# Test the function with a file path\n",
        "file_path = 'example.txt'\n",
        "print_file_content(file_path)"
      ],
      "metadata": {
        "colab": {
          "base_uri": "https://localhost:8080/"
        },
        "id": "YOrMarPNkjQ6",
        "outputId": "6ade73ae-b9d4-4701-ebfc-22cc80ff84cb"
      },
      "execution_count": 11,
      "outputs": [
        {
          "output_type": "stream",
          "name": "stdout",
          "text": [
            "Error: The file 'example.txt' does not exist.\n"
          ]
        }
      ]
    },
    {
      "cell_type": "code",
      "source": [
        "pip install memory_profiler"
      ],
      "metadata": {
        "colab": {
          "base_uri": "https://localhost:8080/"
        },
        "id": "BZJJyPVskyYr",
        "outputId": "bd7e05b4-67c3-47e9-bb8a-4480537d7e57"
      },
      "execution_count": 2,
      "outputs": [
        {
          "output_type": "stream",
          "name": "stdout",
          "text": [
            "Collecting memory_profiler\n",
            "  Downloading memory_profiler-0.61.0-py3-none-any.whl.metadata (20 kB)\n",
            "Requirement already satisfied: psutil in /usr/local/lib/python3.11/dist-packages (from memory_profiler) (5.9.5)\n",
            "Downloading memory_profiler-0.61.0-py3-none-any.whl (31 kB)\n",
            "Installing collected packages: memory_profiler\n",
            "Successfully installed memory_profiler-0.61.0\n"
          ]
        }
      ]
    },
    {
      "cell_type": "code",
      "source": [
        "#16 Demonstrate how to use memory profiling to check the memory usage of a small program.\n",
        "\n",
        "from memory_profiler import profile\n",
        "\n",
        "# Simple function to demonstrate memory usage\n",
        "@profile\n",
        "def example_function():\n",
        "    a = [i for i in range(1000000)]  # List with 1 million integers\n",
        "    b = [i * 2 for i in range(1000000)]  # Another list\n",
        "    c = sum(a)  # Sum of the list elements\n",
        "    d = sum(b)  # Sum of the second list elements\n",
        "    return c, d\n",
        "\n",
        "if __name__ == '__main__':\n",
        "    example_function()"
      ],
      "metadata": {
        "colab": {
          "base_uri": "https://localhost:8080/"
        },
        "id": "vfqkIcZXJJUT",
        "outputId": "205bd309-e0d4-4886-93d4-f5e202b4fdba"
      },
      "execution_count": 4,
      "outputs": [
        {
          "output_type": "stream",
          "name": "stderr",
          "text": [
            "\n",
            "PYDEV DEBUGGER WARNING:\n",
            "sys.settrace() should not be used when the debugger is being used.\n",
            "This may cause the debugger to stop working correctly.\n",
            "If this is needed, please check: \n",
            "http://pydev.blogspot.com/2007/06/why-cant-pydev-debugger-work-with.html\n",
            "to see how to restore the debug tracing back correctly.\n",
            "Call Location:\n",
            "  File \"/usr/local/lib/python3.11/dist-packages/memory_profiler.py\", line 847, in enable\n",
            "    sys.settrace(self.trace_memory_usage)\n",
            "\n"
          ]
        },
        {
          "output_type": "stream",
          "name": "stdout",
          "text": [
            "ERROR: Could not find file <ipython-input-4-49ebb882c538>\n",
            "NOTE: %mprun can only be used on functions defined in physical files, and not in the IPython environment.\n"
          ]
        },
        {
          "output_type": "stream",
          "name": "stderr",
          "text": [
            "\n",
            "PYDEV DEBUGGER WARNING:\n",
            "sys.settrace() should not be used when the debugger is being used.\n",
            "This may cause the debugger to stop working correctly.\n",
            "If this is needed, please check: \n",
            "http://pydev.blogspot.com/2007/06/why-cant-pydev-debugger-work-with.html\n",
            "to see how to restore the debug tracing back correctly.\n",
            "Call Location:\n",
            "  File \"/usr/local/lib/python3.11/dist-packages/memory_profiler.py\", line 850, in disable\n",
            "    sys.settrace(self._original_trace_function)\n",
            "\n"
          ]
        }
      ]
    },
    {
      "cell_type": "code",
      "source": [
        "#17 Write a Python program to create and write a list of numbers to a file, one number per line.\n",
        "\n",
        "# List of numbers to write to a file\n",
        "numbers = [1, 2, 3, 4, 5, 6, 7, 8, 9, 10]\n",
        "\n",
        "# Open the file in write mode ('w')\n",
        "with open('numbers.txt', 'w') as file:\n",
        "    # Write each number to the file, one per line\n",
        "    for number in numbers:\n",
        "        file.write(f\"{number}\\n\")  # Write number followed by a newline\n",
        "\n",
        "print(\"Numbers have been written to 'numbers.txt'.\")"
      ],
      "metadata": {
        "colab": {
          "base_uri": "https://localhost:8080/"
        },
        "id": "kihNzB61JONp",
        "outputId": "4e3757e7-9f16-4642-aa0c-83c747f9465c"
      },
      "execution_count": 5,
      "outputs": [
        {
          "output_type": "stream",
          "name": "stdout",
          "text": [
            "Numbers have been written to 'numbers.txt'.\n"
          ]
        }
      ]
    },
    {
      "cell_type": "code",
      "source": [
        "#18 How would you implement a basic logging setup that logs to a file with rotation after 1MB ?\n",
        "\n",
        "import logging\n",
        "from logging.handlers import RotatingFileHandler\n",
        "\n",
        "# Define the log file name and maximum size for rotation\n",
        "log_filename = 'app.log'\n",
        "max_log_size = 1 * 1024 * 1024  # 1MB in bytes\n",
        "backup_count = 3  # Number of backup files to keep\n",
        "\n",
        "# Set up the RotatingFileHandler for log rotation\n",
        "handler = RotatingFileHandler(log_filename, maxBytes=max_log_size, backupCount=backup_count)\n",
        "handler.setLevel(logging.INFO)  # Set logging level for the handler\n",
        "\n",
        "# Create a logging format\n",
        "formatter = logging.Formatter('%(asctime)s - %(levelname)s - %(message)s')\n",
        "handler.setFormatter(formatter)\n",
        "\n",
        "# Set up the root logger with the handler\n",
        "logging.getLogger().addHandler(handler)\n",
        "logging.getLogger().setLevel(logging.INFO)\n",
        "\n",
        "# Example logging messages\n",
        "logging.info('This is an info message.')\n",
        "logging.warning('This is a warning message.')\n",
        "logging.error('This is an error message.')"
      ],
      "metadata": {
        "colab": {
          "base_uri": "https://localhost:8080/"
        },
        "id": "2VyGhka6JjhA",
        "outputId": "cfae2fb4-316e-448d-c560-22206983a4b9"
      },
      "execution_count": 6,
      "outputs": [
        {
          "output_type": "stream",
          "name": "stderr",
          "text": [
            "INFO:root:This is an info message.\n",
            "WARNING:root:This is a warning message.\n",
            "ERROR:root:This is an error message.\n"
          ]
        }
      ]
    },
    {
      "cell_type": "code",
      "source": [
        "#19 Write a program that handles both IndexError and KeyError using a try-except block.\n",
        "\n",
        "def handle_errors():\n",
        "    # Example list and dictionary\n",
        "    my_list = [1, 2, 3]\n",
        "    my_dict = {\"a\": 1, \"b\": 2, \"c\": 3}\n",
        "\n",
        "    try:\n",
        "        # Attempting to access an index that doesn't exist (IndexError)\n",
        "        print(\"Accessing list element at index 5:\", my_list[5])\n",
        "\n",
        "        # Attempting to access a key that doesn't exist (KeyError)\n",
        "        print(\"Accessing dictionary with key 'd':\", my_dict[\"d\"])\n",
        "\n",
        "    except IndexError as ie:\n",
        "        # Handle IndexError if the list index is out of range\n",
        "        print(f\"IndexError occurred: {ie}\")\n",
        "\n",
        "    except KeyError as ke:\n",
        "        # Handle KeyError if the dictionary key doesn't exist\n",
        "        print(f\"KeyError occurred: {ke}\")\n",
        "\n",
        "if __name__ == \"__main__\":\n",
        "    handle_errors()"
      ],
      "metadata": {
        "colab": {
          "base_uri": "https://localhost:8080/"
        },
        "id": "oUoc9l7AJ7ee",
        "outputId": "fbbb54d7-d9b8-47d2-d989-a11839dabadf"
      },
      "execution_count": 7,
      "outputs": [
        {
          "output_type": "stream",
          "name": "stdout",
          "text": [
            "IndexError occurred: list index out of range\n"
          ]
        }
      ]
    },
    {
      "cell_type": "code",
      "source": [
        "#20 How would you open a file and read its contents using a context manager in Python ?\n",
        "\n",
        "# File path\n",
        "file_path = 'example.txt'\n",
        "\n",
        "# Using a context manager to open and read the file\n",
        "with open(file_path, 'r') as file:\n",
        "    # Read the contents of the file\n",
        "    content = file.read()\n",
        "\n",
        "# After the 'with' block, the file is automatically closed\n",
        "print(content)"
      ],
      "metadata": {
        "id": "DLOCXJq8KJIG"
      },
      "execution_count": 8,
      "outputs": []
    },
    {
      "cell_type": "code",
      "source": [
        "#21 Write a Python program that reads a file and prints the number of occurrences of a specific word.\n",
        "\n",
        "def count_word_occurrences(file_path, word_to_count):\n",
        "    try:\n",
        "        # Open the file in read mode using a context manager\n",
        "        with open(file_path, 'r') as file:\n",
        "            # Read all lines from the file\n",
        "            content = file.read()\n",
        "\n",
        "        # Count the occurrences of the specific word (case insensitive)\n",
        "        word_count = content.lower().split().count(word_to_count.lower())\n",
        "\n",
        "        # Print the number of occurrences\n",
        "        print(f\"The word '{word_to_count}' occurs {word_count} times in the file.\")\n",
        "\n",
        "    except FileNotFoundError:\n",
        "        print(f\"Error: The file '{file_path}' does not exist.\")\n",
        "    except Exception as e:\n",
        "        print(f\"An error occurred: {e}\")\n",
        "\n",
        "# Example usage\n",
        "file_path = 'example.txt'  # Replace with your file path\n",
        "word_to_count = 'python'    # Replace with the word you want to count\n",
        "count_word_occurrences(file_path, word_to_count)"
      ],
      "metadata": {
        "colab": {
          "base_uri": "https://localhost:8080/"
        },
        "id": "h2EktbqdK6qn",
        "outputId": "291a11f8-bb05-479b-a03f-b2b48ba1fa70"
      },
      "execution_count": 9,
      "outputs": [
        {
          "output_type": "stream",
          "name": "stdout",
          "text": [
            "Error: The file 'example.txt' does not exist.\n"
          ]
        }
      ]
    },
    {
      "cell_type": "code",
      "source": [
        "#22 How can you check if a file is empty before attempting to read its contents ?\n",
        "\n",
        "import os\n",
        "\n",
        "def check_if_file_is_empty(file_path):\n",
        "    # Check if the file size is 0 bytes\n",
        "    if os.path.getsize(file_path) == 0:\n",
        "        print(\"The file is empty.\")\n",
        "    else:\n",
        "        print(\"The file is not empty.\")\n",
        "\n",
        "# Example usage\n",
        "file_path = 'example.txt'  # Replace with your file path\n",
        "check_if_file_is_empty(file_path)"
      ],
      "metadata": {
        "id": "T5dHegNHLSbc"
      },
      "execution_count": 10,
      "outputs": []
    },
    {
      "cell_type": "code",
      "source": [
        "#23 Write a Python program that writes to a log file when an error occurs during file handling.\n",
        "\n",
        "import logging\n",
        "\n",
        "# Set up logging to log errors to a file\n",
        "logging.basicConfig(\n",
        "    filename='file_error_log.log',  # Log file where errors will be saved\n",
        "    level=logging.ERROR,            # Log level to capture errors and above\n",
        "    format='%(asctime)s - %(levelname)s - %(message)s'\n",
        ")\n",
        "\n",
        "def handle_file_operations(file_path):\n",
        "    try:\n",
        "        # Attempt to open the file in write mode\n",
        "        with open(file_path, 'w') as file:\n",
        "            file.write(\"Hello, world!\")\n",
        "        print(\"File written successfully.\")\n",
        "\n",
        "    except Exception as e:\n",
        "        # Log the error if something goes wrong during file handling\n",
        "        logging.error(f\"Error occurred while handling the file: {e}\")\n",
        "        print(f\"An error occurred. Please check the log file for details.\")\n",
        "\n",
        "# Example usage\n",
        "file_path = 'example.txt'  # Path to the file you want to write to\n",
        "handle_file_operations(file_path)"
      ],
      "metadata": {
        "colab": {
          "base_uri": "https://localhost:8080/"
        },
        "id": "MKh6c0KyLgGB",
        "outputId": "ab30c311-6220-493e-db6e-8000d5292862"
      },
      "execution_count": 11,
      "outputs": [
        {
          "output_type": "stream",
          "name": "stdout",
          "text": [
            "File written successfully.\n"
          ]
        }
      ]
    }
  ]
}